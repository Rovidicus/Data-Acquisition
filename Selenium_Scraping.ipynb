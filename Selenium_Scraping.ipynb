{
 "cells": [
  {
   "cell_type": "code",
   "execution_count": 1,
   "id": "76b0da2f-c8ca-45c6-a35a-960b42cdb4e5",
   "metadata": {},
   "outputs": [
    {
     "name": "stdout",
     "output_type": "stream",
     "text": [
      "Requirement already satisfied: selenium in c:\\users\\rovidicus\\anaconda3\\envs\\dojo-env\\lib\\site-packages (4.10.0)\n",
      "Requirement already satisfied: urllib3[socks]<3,>=1.26 in c:\\users\\rovidicus\\anaconda3\\envs\\dojo-env\\lib\\site-packages (from selenium) (1.26.15)\n",
      "Requirement already satisfied: trio~=0.17 in c:\\users\\rovidicus\\anaconda3\\envs\\dojo-env\\lib\\site-packages (from selenium) (0.22.2)\n",
      "Requirement already satisfied: trio-websocket~=0.9 in c:\\users\\rovidicus\\anaconda3\\envs\\dojo-env\\lib\\site-packages (from selenium) (0.10.3)\n",
      "Requirement already satisfied: certifi>=2021.10.8 in c:\\users\\rovidicus\\anaconda3\\envs\\dojo-env\\lib\\site-packages (from selenium) (2024.2.2)\n",
      "Requirement already satisfied: attrs>=20.1.0 in c:\\users\\rovidicus\\anaconda3\\envs\\dojo-env\\lib\\site-packages (from trio~=0.17->selenium) (22.1.0)\n",
      "Requirement already satisfied: sortedcontainers in c:\\users\\rovidicus\\anaconda3\\envs\\dojo-env\\lib\\site-packages (from trio~=0.17->selenium) (2.4.0)\n",
      "Requirement already satisfied: idna in c:\\users\\rovidicus\\anaconda3\\envs\\dojo-env\\lib\\site-packages (from trio~=0.17->selenium) (3.4)\n",
      "Requirement already satisfied: outcome in c:\\users\\rovidicus\\anaconda3\\envs\\dojo-env\\lib\\site-packages (from trio~=0.17->selenium) (1.2.0)\n",
      "Requirement already satisfied: sniffio in c:\\users\\rovidicus\\anaconda3\\envs\\dojo-env\\lib\\site-packages (from trio~=0.17->selenium) (1.2.0)\n",
      "Requirement already satisfied: cffi>=1.14 in c:\\users\\rovidicus\\anaconda3\\envs\\dojo-env\\lib\\site-packages (from trio~=0.17->selenium) (1.15.1)\n",
      "Requirement already satisfied: exceptiongroup>=1.0.0rc9 in c:\\users\\rovidicus\\anaconda3\\envs\\dojo-env\\lib\\site-packages (from trio~=0.17->selenium) (1.1.2)\n",
      "Requirement already satisfied: wsproto>=0.14 in c:\\users\\rovidicus\\anaconda3\\envs\\dojo-env\\lib\\site-packages (from trio-websocket~=0.9->selenium) (1.2.0)\n",
      "Requirement already satisfied: PySocks!=1.5.7,<2.0,>=1.5.6 in c:\\users\\rovidicus\\anaconda3\\envs\\dojo-env\\lib\\site-packages (from urllib3[socks]<3,>=1.26->selenium) (1.7.1)\n",
      "Requirement already satisfied: pycparser in c:\\users\\rovidicus\\anaconda3\\envs\\dojo-env\\lib\\site-packages (from cffi>=1.14->trio~=0.17->selenium) (2.21)\n",
      "Requirement already satisfied: h11<1,>=0.9.0 in c:\\users\\rovidicus\\anaconda3\\envs\\dojo-env\\lib\\site-packages (from wsproto>=0.14->trio-websocket~=0.9->selenium) (0.14.0)\n"
     ]
    }
   ],
   "source": [
    "!pip install selenium"
   ]
  },
  {
   "cell_type": "code",
   "execution_count": 2,
   "id": "73641cba-bfa9-4829-a3b1-65900b209a31",
   "metadata": {},
   "outputs": [],
   "source": [
    "# import necessary driver\n",
    "from selenium import webdriver\n",
    "# using edge browser\n",
    "from selenium.webdriver.edge.service import Service"
   ]
  },
  {
   "cell_type": "code",
   "execution_count": 3,
   "id": "25f541a3-0d69-4807-b800-f0bdd444c739",
   "metadata": {},
   "outputs": [],
   "source": [
    "# making service object with executable path\n",
    "edge_executable = Service(executable_path=\"./edgedriver\", log_path=None)"
   ]
  },
  {
   "cell_type": "code",
   "execution_count": 4,
   "id": "0d459622-ee99-477f-bbca-43a3e8def6a5",
   "metadata": {},
   "outputs": [],
   "source": [
    "# creating webdriver instance\n",
    "driver = webdriver.Edge()"
   ]
  },
  {
   "cell_type": "code",
   "execution_count": 5,
   "id": "241a7176-a5ad-4afc-8b7b-ba3436c973ae",
   "metadata": {},
   "outputs": [],
   "source": [
    "# example action\n",
    "driver.get('http://www.youtube.com')"
   ]
  },
  {
   "cell_type": "code",
   "execution_count": 6,
   "id": "c7a135cc-425a-4af6-bbc9-cb552ff2de73",
   "metadata": {},
   "outputs": [],
   "source": [
    "# closing session\n",
    "driver.quit()"
   ]
  },
  {
   "cell_type": "markdown",
   "id": "8f132e18-f86b-47fb-8e84-632e188dcae9",
   "metadata": {},
   "source": [
    "## Logging in with Selenium"
   ]
  },
  {
   "cell_type": "code",
   "execution_count": 7,
   "id": "cbeba539-13b3-4c68-bb9a-a2cde5e656b6",
   "metadata": {},
   "outputs": [
    {
     "data": {
      "text/plain": [
       "dict_keys(['fake-name', 'fake-password'])"
      ]
     },
     "execution_count": 7,
     "metadata": {},
     "output_type": "execute_result"
    }
   ],
   "source": [
    "import json\n",
    "with open(\"/Users/Rovidicus/.secret/quotes_login.json\") as f:\n",
    "    login = json.load(f)\n",
    "login.keys()"
   ]
  },
  {
   "cell_type": "code",
   "execution_count": 24,
   "id": "b3ed752f-5019-4094-bf06-6aac8fcdc30e",
   "metadata": {},
   "outputs": [],
   "source": [
    "from selenium import webdriver\n",
    "from selenium.webdriver.edge.service import Service\n",
    "import pandas as pd"
   ]
  },
  {
   "cell_type": "code",
   "execution_count": 11,
   "id": "0a6240a8-daea-4fdb-8052-3a56e17dceea",
   "metadata": {},
   "outputs": [],
   "source": [
    "edge_executable = Service(executable_path=\"./edgedriver\", log_path=None)\n",
    "driver = webdriver.Edge()"
   ]
  },
  {
   "cell_type": "code",
   "execution_count": 12,
   "id": "a5ebe3b6-eb37-4789-baaa-5cf39bf336d6",
   "metadata": {},
   "outputs": [],
   "source": [
    "driver.get('https://quotes.toscrape.com/login')"
   ]
  },
  {
   "cell_type": "code",
   "execution_count": 13,
   "id": "fd78b7ee-f399-44bd-8557-7938bf3ad262",
   "metadata": {},
   "outputs": [
    {
     "data": {
      "text/plain": [
       "<selenium.webdriver.remote.webelement.WebElement (session=\"1167ba89b6c5ad2370b6fa6139b8ca96\", element=\"f.5A75EF52776BD5338885EE62C56CD703.d.E826D3355A6D4E382CCE63E2D539A2DF.e.2\")>"
      ]
     },
     "execution_count": 13,
     "metadata": {},
     "output_type": "execute_result"
    }
   ],
   "source": [
    "# Option 1: Use by 'id' with value 'username'\n",
    "username_field = driver.find_element(by='id', value='username')\n",
    "username_field"
   ]
  },
  {
   "cell_type": "code",
   "execution_count": 14,
   "id": "7db81a83-ee4a-40f2-a2c8-0ed57c613d8f",
   "metadata": {},
   "outputs": [
    {
     "data": {
      "text/plain": [
       "<selenium.webdriver.remote.webelement.WebElement (session=\"1167ba89b6c5ad2370b6fa6139b8ca96\", element=\"f.5A75EF52776BD5338885EE62C56CD703.d.E826D3355A6D4E382CCE63E2D539A2DF.e.3\")>"
      ]
     },
     "execution_count": 14,
     "metadata": {},
     "output_type": "execute_result"
    }
   ],
   "source": [
    "# Identify the password field by 'id' with value 'password'\n",
    "password_field = driver.find_element(by='id',value='password')\n",
    "password_field"
   ]
  },
  {
   "cell_type": "code",
   "execution_count": 17,
   "id": "04521a35-b5db-4c44-90bf-795be106b2c7",
   "metadata": {},
   "outputs": [],
   "source": [
    "# Send username from login dict to username field\n",
    "username_field.send_keys(login['fake-name'])"
   ]
  },
  {
   "cell_type": "code",
   "execution_count": 18,
   "id": "7267fb0d-ecbd-4f30-b3c6-7deb178fd4dc",
   "metadata": {},
   "outputs": [],
   "source": [
    "# Send password from login dict to password field\n",
    "password_field.send_keys(login['fake-password'])"
   ]
  },
  {
   "cell_type": "code",
   "execution_count": 19,
   "id": "56947440-58af-4353-8b4e-d201827a06cd",
   "metadata": {},
   "outputs": [
    {
     "data": {
      "text/plain": [
       "<selenium.webdriver.remote.webelement.WebElement (session=\"1167ba89b6c5ad2370b6fa6139b8ca96\", element=\"f.5A75EF52776BD5338885EE62C56CD703.d.E826D3355A6D4E382CCE63E2D539A2DF.e.5\")>"
      ]
     },
     "execution_count": 19,
     "metadata": {},
     "output_type": "execute_result"
    }
   ],
   "source": [
    "# Identify login button with by copying expath\n",
    "xpath =\"/html/body/div/form/input[2]\"\n",
    "login_button = driver.find_element(by='xpath', value=xpath)\n",
    "login_button"
   ]
  },
  {
   "cell_type": "code",
   "execution_count": 20,
   "id": "85bb2f42-73c1-4b5f-a61f-0d8a5cad2131",
   "metadata": {},
   "outputs": [],
   "source": [
    "# Click on the login button\n",
    "login_button.click()"
   ]
  },
  {
   "cell_type": "code",
   "execution_count": 22,
   "id": "adcf2a1b-b104-4749-9211-060787ee1bf0",
   "metadata": {},
   "outputs": [
    {
     "name": "stdout",
     "output_type": "stream",
     "text": [
      "<html lang=\"en\">\n",
      " <head>\n",
      "  <meta charset=\"utf-8\"/>\n",
      "  <title>\n",
      "   Quotes to Scrape\n",
      "  </title>\n",
      "  <link href=\"/static/bootstrap.min.css\" rel=\"stylesheet\"/>\n",
      "  <link href=\"/static/main.css\" rel=\"stylesheet\"/>\n",
      " </head>\n",
      " <body>\n",
      "  <div class=\"container\">\n",
      "   <div class=\"row header-box\">\n",
      "    <div class=\"col-md-8\">\n",
      "     <h1>\n",
      "      <a href=\"/\" style=\"text-decoration: none\">\n",
      "       Quotes to Scrape\n",
      "      </a>\n",
      "     </h1>\n",
      "    </div>\n",
      "    <div class=\"col-md-4\">\n",
      "     <p>\n",
      "      <a href=\"/logout\">\n",
      "       Logout\n",
      "    \n"
     ]
    }
   ],
   "source": [
    "from bs4 import BeautifulSoup\n",
    "soup = BeautifulSoup(driver.page_source)\n",
    "print(soup.prettify()[:500])"
   ]
  },
  {
   "cell_type": "code",
   "execution_count": 23,
   "id": "ab2874fe-37f4-4eab-8ae5-c1cbe5e1fb14",
   "metadata": {},
   "outputs": [],
   "source": [
    "# Close the driver (will also close when notebook kernel shuts down)\n",
    "driver.quit()"
   ]
  },
  {
   "cell_type": "code",
   "execution_count": 28,
   "id": "1dac633d-6f6a-4d77-8da7-66ca986ed8e6",
   "metadata": {},
   "outputs": [
    {
     "name": "stdout",
     "output_type": "stream",
     "text": [
      "User-agent: *\n",
      "Disallow: /exec/obidos/account-access-login\n",
      "Disallow: /exec/obidos/change-style\n",
      "Disallow: /exec/obidos/flex-sign-in\n",
      "Disallow: /exec/obidos/handle-buy-box\n",
      "Disallow: /exec/obidos/tg/cm/member/\n",
      "Disallow: /gp/aw/help/id=sss\n",
      "Disallow: /gp/cart\n",
      "Disallow: /gp/flex\n",
      "Disallow: /gp/product/e-mail-friend\n",
      "Disallow: /gp/product/product-availability\n",
      "Disallow: /gp/product/rate-this-item\n",
      "Disallow: /gp/sign-in\n",
      "Disallow: /gp/reader\n",
      "Disallow: /gp/sitbv3/reader\n",
      "Disallow: /gp/richpub/syltguides/create\n",
      "Disallow: /gp/gfix\n",
      "Disallow: /gp/associations/wizard.html\n",
      "Disallow: /gp/dmusic/order\n",
      "Disallow: /gp/legacy-handle-buy-box.html\n",
      "Disallow: /gp/aws/ssop\n",
      "Disallow: /gp/yourstore\n",
      "Disallow: /gp/gift-central/organizer/add-wishlist\n",
      "Disallow: /gp/vote\n",
      "Disallow: /gp/voting/\n",
      "Disallow: /gp/music/wma-pop-up\n",
      "Disallow: /gp/customer-images\n",
      "Disallow: /gp/richpub/listmania/createpipeline\n",
      "Disallow: /gp/content-form\n",
      "Disallow: /gp/pdp/invitation/invite\n",
      "Disallow: /gp/customer-reviews/common/du\n",
      "Disallow: /gp/customer-reviews/write-a-review.html\n",
      "Disallow: /gp/associations/wizard.html\n",
      "Disallow: /gp/music/clipserve\n",
      "Disallow: /gp/customer-media/upload\n",
      "Disallow: /gp/history\n",
      "Disallow: /gp/item-dispatch\n",
      "Disallow: /gp/dmusic/order/handle-buy-box.html\n",
      "Disallow: /gp/recsradio\n",
      "Disallow: /gp/slredirect\n",
      "Disallow: /dp/shipping/\n",
      "Disallow: /dp/twister-update/\n",
      "Disallow: /dp/manual-submit/\n",
      "Disallow: /dp/e-mail-friend/\n",
      "Disallow: /dp/product-availability/\n",
      "Disallow: /dp/rate-this-item/\n",
      "Disallow: /gp/registry/wishlist/*/reserve\n",
      "Disallow: /gp/structured-ratings/actions/get-experience.html\n",
      "Disallow: /gp/twitter/\n",
      "Disallow: /ap/signin\n",
      "Disallow: /gp/registry/wishlist/\n",
      "Disallow: /wishlist/\n",
      "Allow: /wishlist/universal*\n",
      "Allow: /wishlist/vendor-button*\n",
      "Allow: /wishlist/get-button*\n",
      "Disallow: /gp/wishlist/\n",
      "Allow: /gp/wishlist/universal*\n",
      "Allow: /gp/wishlist/vendor-button*\n",
      "Allow: /gp/wishlist/ipad-install*\n",
      "Disallow: /registry/wishlist/\n",
      "Disallow: /review/common/du\n",
      "Disallow: /gp/registry/search.html\n",
      "Disallow: /product-reviews/B0069IY63Y\n",
      "\n"
     ]
    }
   ],
   "source": [
    "# Manually saved it to a .txt file for this lesson\n",
    "with open('Data/robots.txt') as f:\n",
    "    robot_txt = f.read()\n",
    "print(robot_txt[:2000])"
   ]
  },
  {
   "cell_type": "code",
   "execution_count": 29,
   "id": "166f9275-4b02-4d97-9ee4-11afe44db158",
   "metadata": {},
   "outputs": [
    {
     "data": {
      "text/plain": [
       "161"
      ]
     },
     "execution_count": 29,
     "metadata": {},
     "output_type": "execute_result"
    }
   ],
   "source": [
    "# Splitting the robots.txt into separate lines \n",
    "robot_lines = robot_txt.split('\\n')\n",
    "len(robot_lines)"
   ]
  },
  {
   "cell_type": "code",
   "execution_count": 30,
   "id": "f4491a74-d076-4432-90ee-7df0cc339296",
   "metadata": {},
   "outputs": [
    {
     "data": {
      "text/plain": [
       "['Allow: /wishlist/universal*',\n",
       " 'Allow: /wishlist/vendor-button*',\n",
       " 'Allow: /wishlist/get-button*',\n",
       " 'Allow: /gp/wishlist/universal*',\n",
       " 'Allow: /gp/wishlist/vendor-button*',\n",
       " 'Allow: /gp/wishlist/ipad-install*',\n",
       " 'Allow: /gp/dmusic/promotions/PrimeMusic',\n",
       " 'Allow: /gp/dmusic/promotions/AmazonMusicUnlimited',\n",
       " 'Allow: /-/es/',\n",
       " 'Allow: /-/en$',\n",
       " 'Allow: /-/zh_TW/',\n",
       " 'Allow: /-/zh_TW$',\n",
       " 'Allow: /-/he/',\n",
       " 'Allow: /-/he$',\n",
       " 'Allow: /gp/offer-listing/B000',\n",
       " 'Allow: /gp/offer-listing/9000',\n",
       " 'Allow: /gp/aag/main?*seller=ABVFEJU8LS620']"
      ]
     },
     "execution_count": 30,
     "metadata": {},
     "output_type": "execute_result"
    }
   ],
   "source": [
    "# Programmatically finding dirs that allow scraping\n",
    "disallowed_dirs = [l for l in robot_lines if l.startswith(\"Disallow\")]\n",
    "allowed_dirs = [l for l in robot_lines if l.startswith(\"Allow\")]\n",
    "allowed_dirs"
   ]
  },
  {
   "cell_type": "code",
   "execution_count": 31,
   "id": "a9780736-93fd-415b-84be-2691dfc9a9f0",
   "metadata": {},
   "outputs": [
    {
     "data": {
      "text/plain": [
       "137"
      ]
     },
     "execution_count": 31,
     "metadata": {},
     "output_type": "execute_result"
    }
   ],
   "source": [
    "len(disallowed_dirs)"
   ]
  },
  {
   "cell_type": "code",
   "execution_count": 32,
   "id": "c24a9c87-50ec-4063-8e1f-a2d142b4c97f",
   "metadata": {},
   "outputs": [
    {
     "data": {
      "text/plain": [
       "17"
      ]
     },
     "execution_count": 32,
     "metadata": {},
     "output_type": "execute_result"
    }
   ],
   "source": [
    "len(allowed_dirs)"
   ]
  },
  {
   "cell_type": "code",
   "execution_count": 34,
   "id": "d7e2afc8-61e2-4e6c-861c-5504aa80dd50",
   "metadata": {},
   "outputs": [
    {
     "name": "stdout",
     "output_type": "stream",
     "text": [
      "Collecting fake-useragent\n",
      "  Obtaining dependency information for fake-useragent from https://files.pythonhosted.org/packages/e4/99/60d8cf1b26938c2e0a57e232f7f15641dfcd6f8deda454d73e4145910ff6/fake_useragent-1.5.1-py3-none-any.whl.metadata\n",
      "  Downloading fake_useragent-1.5.1-py3-none-any.whl.metadata (15 kB)\n",
      "Downloading fake_useragent-1.5.1-py3-none-any.whl (17 kB)\n",
      "Installing collected packages: fake-useragent\n",
      "Successfully installed fake-useragent-1.5.1\n"
     ]
    }
   ],
   "source": [
    "!pip install fake-useragent"
   ]
  },
  {
   "cell_type": "code",
   "execution_count": 35,
   "id": "3516433c-0af9-448d-bb0d-750f90cdf9f2",
   "metadata": {},
   "outputs": [],
   "source": [
    "import time\n",
    "time.sleep(1)"
   ]
  },
  {
   "cell_type": "code",
   "execution_count": 36,
   "id": "9b483c7d-4749-44b2-9a58-37a727ba39ed",
   "metadata": {},
   "outputs": [
    {
     "data": {
      "text/plain": [
       "<Response [200]>"
      ]
     },
     "execution_count": 36,
     "metadata": {},
     "output_type": "execute_result"
    }
   ],
   "source": [
    "import requests\n",
    "# Getting a response with no User Agent specified\n",
    "url = \"https://realpython.github.io/fake-jobs/\"\n",
    "response = requests.get(url,)\n",
    "response"
   ]
  },
  {
   "cell_type": "code",
   "execution_count": 37,
   "id": "9099cfec-87e7-40f3-a898-2b95f4719cdd",
   "metadata": {},
   "outputs": [
    {
     "data": {
      "text/plain": [
       "{'User-Agent': 'python-requests/2.29.0', 'Accept-Encoding': 'gzip, deflate, br', 'Accept': '*/*', 'Connection': 'keep-alive'}"
      ]
     },
     "execution_count": 37,
     "metadata": {},
     "output_type": "execute_result"
    }
   ],
   "source": [
    "# Finding the default user-agent used\n",
    "response.request.headers"
   ]
  },
  {
   "cell_type": "code",
   "execution_count": 38,
   "id": "413ca9fd-7948-46ce-874d-a0fc3e113bc6",
   "metadata": {},
   "outputs": [
    {
     "data": {
      "text/plain": [
       "['chrome', 'edge', 'firefox', 'safari']"
      ]
     },
     "execution_count": 38,
     "metadata": {},
     "output_type": "execute_result"
    }
   ],
   "source": [
    "from fake_useragent import UserAgent\n",
    "ua = UserAgent()\n",
    "ua.browsers"
   ]
  },
  {
   "cell_type": "code",
   "execution_count": 40,
   "id": "5a9f513f-1ca2-415f-850e-f2bedfcaf967",
   "metadata": {},
   "outputs": [
    {
     "data": {
      "text/plain": [
       "'Mozilla/5.0 (Linux; Android 10; K) AppleWebKit/537.36 (KHTML, like Gecko) Chrome/122.0.0.0 Mobile Safari/537.36'"
      ]
     },
     "execution_count": 40,
     "metadata": {},
     "output_type": "execute_result"
    }
   ],
   "source": [
    "ua.chrome"
   ]
  },
  {
   "cell_type": "code",
   "execution_count": 41,
   "id": "219ac629-e924-499e-8211-34b74150a519",
   "metadata": {},
   "outputs": [
    {
     "data": {
      "text/plain": [
       "'Mozilla/5.0 (Windows NT 10.0; Win64; x64; rv:123.0) Gecko/20100101 Firefox/123.0'"
      ]
     },
     "execution_count": 41,
     "metadata": {},
     "output_type": "execute_result"
    }
   ],
   "source": [
    "ua.firefox"
   ]
  },
  {
   "cell_type": "code",
   "execution_count": 42,
   "id": "b2db1c09-4370-46f0-81d1-5a4aed3d3c16",
   "metadata": {},
   "outputs": [
    {
     "data": {
      "text/plain": [
       "<Response [200]>"
      ]
     },
     "execution_count": 42,
     "metadata": {},
     "output_type": "execute_result"
    }
   ],
   "source": [
    "# Define the fake user-agent\n",
    "header = {'User-Agent': ua.firefox}\n",
    "# Include the fake user-agent in the headers argument\n",
    "response_ua = requests.get(url,headers=header)\n",
    "response_ua"
   ]
  },
  {
   "cell_type": "code",
   "execution_count": 43,
   "id": "d128ea2b-be71-45fc-b9df-d4b4cf3ad9e9",
   "metadata": {},
   "outputs": [
    {
     "data": {
      "text/plain": [
       "{'User-Agent': 'Mozilla/5.0 (Macintosh; Intel Mac OS X 10_12_5; rv:123.0esr) Gecko/20100101 Firefox/123.0esr', 'Accept-Encoding': 'gzip, deflate, br', 'Accept': '*/*', 'Connection': 'keep-alive'}"
      ]
     },
     "execution_count": 43,
     "metadata": {},
     "output_type": "execute_result"
    }
   ],
   "source": [
    "# Confirming our changed user-agent was used\n",
    "response_ua.request.headers"
   ]
  }
 ],
 "metadata": {
  "kernelspec": {
   "display_name": "Python 3 (ipykernel)",
   "language": "python",
   "name": "python3"
  },
  "language_info": {
   "codemirror_mode": {
    "name": "ipython",
    "version": 3
   },
   "file_extension": ".py",
   "mimetype": "text/x-python",
   "name": "python",
   "nbconvert_exporter": "python",
   "pygments_lexer": "ipython3",
   "version": "3.10.10"
  },
  "widgets": {
   "application/vnd.jupyter.widget-state+json": {
    "state": {},
    "version_major": 2,
    "version_minor": 0
   }
  }
 },
 "nbformat": 4,
 "nbformat_minor": 5
}

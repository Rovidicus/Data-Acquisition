{
 "cells": [
  {
   "cell_type": "code",
   "execution_count": 1,
   "id": "b8d42e24-1b84-4b0c-8773-dfe7a715c730",
   "metadata": {},
   "outputs": [],
   "source": [
    "import requests\n",
    "from bs4 import BeautifulSoup\n",
    "import pandas as pd"
   ]
  },
  {
   "cell_type": "code",
   "execution_count": 2,
   "id": "fc33387d-8a36-4a36-9114-712bf9139a27",
   "metadata": {},
   "outputs": [
    {
     "name": "stdout",
     "output_type": "stream",
     "text": [
      "200\n"
     ]
    },
    {
     "data": {
      "text/plain": [
       "True"
      ]
     },
     "execution_count": 2,
     "metadata": {},
     "output_type": "execute_result"
    }
   ],
   "source": [
    "# Get the html from the page\n",
    "url = \"https://realpython.github.io/fake-jobs/\"\n",
    "response = requests.get(url)\n",
    "print(response.status_code)\n",
    "response.ok"
   ]
  },
  {
   "cell_type": "code",
   "execution_count": 3,
   "id": "45bfc950-f1f2-44d1-8d72-f3af75d7056c",
   "metadata": {},
   "outputs": [
    {
     "name": "stdout",
     "output_type": "stream",
     "text": [
      "<!DOCTYPE html>\n",
      "<html>\n",
      " <head>\n",
      "  <meta charset=\"utf-8\"/>\n",
      "  <meta content=\"width=device-width, initial-scale=1\" name=\"viewport\"/>\n",
      "  <title>\n",
      "   Fake Python\n",
      "  </title>\n",
      "  <link href=\"https://cdn.jsdelivr.net/npm/bulma@0.9.2/css/bulma.min.css\" rel=\"stylesheet\"/>\n",
      " </head>\n",
      " <body>\n",
      "  <section class=\"section\">\n",
      "   <div class=\"container mb-5\">\n",
      "    <h1 class=\"title is-1\">\n",
      "     Fake Python\n",
      "    </h1>\n",
      "    <p class=\"subtitle is-3\">\n",
      "     Fake Jobs for Your Web Scraping Journey\n",
      "    </p>\n",
      "   </div>\n",
      "   <div class=\"c\n"
     ]
    }
   ],
   "source": [
    "# Make a beautiful soup\n",
    "soup = BeautifulSoup(response.content)\n",
    "print(soup.prettify()[:500])"
   ]
  },
  {
   "cell_type": "code",
   "execution_count": 4,
   "id": "948d5bc9-f973-4fea-9417-238940a49155",
   "metadata": {},
   "outputs": [
    {
     "data": {
      "text/plain": [
       "100"
      ]
     },
     "execution_count": 4,
     "metadata": {},
     "output_type": "execute_result"
    }
   ],
   "source": [
    "# Getting a list of all job listing divs\n",
    "found_job_divs = soup.find_all(\"div\", attrs={'class':'card-content'})\n",
    "len(found_job_divs)"
   ]
  },
  {
   "cell_type": "code",
   "execution_count": 5,
   "id": "9270f876-467b-465a-b98f-7760ffdb6cad",
   "metadata": {},
   "outputs": [
    {
     "data": {
      "text/plain": [
       "<div class=\"card-content\">\n",
       "<div class=\"media\">\n",
       "<div class=\"media-left\">\n",
       "<figure class=\"image is-48x48\">\n",
       "<img alt=\"Real Python Logo\" src=\"https://files.realpython.com/media/real-python-logo-thumbnail.7f0db70c2ed2.jpg?__no_cf_polish=1\"/>\n",
       "</figure>\n",
       "</div>\n",
       "<div class=\"media-content\">\n",
       "<h2 class=\"title is-5\">Senior Python Developer</h2>\n",
       "<h3 class=\"subtitle is-6 company\">Payne, Roberts and Davis</h3>\n",
       "</div>\n",
       "</div>\n",
       "<div class=\"content\">\n",
       "<p class=\"location\">\n",
       "        Stewartbury, AA\n",
       "      </p>\n",
       "<p class=\"is-small has-text-grey\">\n",
       "<time datetime=\"2021-04-08\">2021-04-08</time>\n",
       "</p>\n",
       "</div>\n",
       "<footer class=\"card-footer\">\n",
       "<a class=\"card-footer-item\" href=\"https://www.realpython.com\" target=\"_blank\">Learn</a>\n",
       "<a class=\"card-footer-item\" href=\"https://realpython.github.io/fake-jobs/jobs/senior-python-developer-0.html\" target=\"_blank\">Apply</a>\n",
       "</footer>\n",
       "</div>"
      ]
     },
     "execution_count": 5,
     "metadata": {},
     "output_type": "execute_result"
    }
   ],
   "source": [
    "# Slicing a single job to figure out extraction code\n",
    "job_div = found_job_divs[0]\n",
    "job_div"
   ]
  },
  {
   "cell_type": "code",
   "execution_count": 6,
   "id": "cd011899-a9c3-4e3c-b781-10f5085a9ce7",
   "metadata": {},
   "outputs": [
    {
     "data": {
      "text/html": [
       "<div class=\"card-content\">\n",
       "<div class=\"media\">\n",
       "<div class=\"media-left\">\n",
       "<figure class=\"image is-48x48\">\n",
       "<img alt=\"Real Python Logo\" src=\"https://files.realpython.com/media/real-python-logo-thumbnail.7f0db70c2ed2.jpg?__no_cf_polish=1\"/>\n",
       "</figure>\n",
       "</div>\n",
       "<div class=\"media-content\">\n",
       "<h2 class=\"title is-5\">Senior Python Developer</h2>\n",
       "<h3 class=\"subtitle is-6 company\">Payne, Roberts and Davis</h3>\n",
       "</div>\n",
       "</div>\n",
       "<div class=\"content\">\n",
       "<p class=\"location\">\n",
       "        Stewartbury, AA\n",
       "      </p>\n",
       "<p class=\"is-small has-text-grey\">\n",
       "<time datetime=\"2021-04-08\">2021-04-08</time>\n",
       "</p>\n",
       "</div>\n",
       "<footer class=\"card-footer\">\n",
       "<a class=\"card-footer-item\" href=\"https://www.realpython.com\" target=\"_blank\">Learn</a>\n",
       "<a class=\"card-footer-item\" href=\"https://realpython.github.io/fake-jobs/jobs/senior-python-developer-0.html\" target=\"_blank\">Apply</a>\n",
       "</footer>\n",
       "</div>"
      ],
      "text/plain": [
       "<IPython.core.display.HTML object>"
      ]
     },
     "execution_count": 6,
     "metadata": {},
     "output_type": "execute_result"
    }
   ],
   "source": [
    "from IPython.display import HTML\n",
    "HTML(str(job_div))"
   ]
  },
  {
   "cell_type": "code",
   "execution_count": 7,
   "id": "8b3a19db-a34d-463a-89ed-69a96dcc3f72",
   "metadata": {},
   "outputs": [
    {
     "data": {
      "text/plain": [
       "<h2 class=\"title is-5\">Senior Python Developer</h2>"
      ]
     },
     "execution_count": 7,
     "metadata": {},
     "output_type": "execute_result"
    }
   ],
   "source": [
    "# Finding the h2 that has title class\n",
    "title_tag = job_div.find('h2',{'class':'title'})\n",
    "title_tag"
   ]
  },
  {
   "cell_type": "code",
   "execution_count": 8,
   "id": "f890393b-d070-4696-9aae-9651ce2638da",
   "metadata": {},
   "outputs": [
    {
     "data": {
      "text/plain": [
       "'Senior Python Developer'"
      ]
     },
     "execution_count": 8,
     "metadata": {},
     "output_type": "execute_result"
    }
   ],
   "source": [
    "# Extract clean text\n",
    "title = title_tag.text\n",
    "title"
   ]
  },
  {
   "cell_type": "code",
   "execution_count": 9,
   "id": "04e149f7-7982-4216-9209-98d810b2dba3",
   "metadata": {},
   "outputs": [
    {
     "data": {
      "text/plain": [
       "'Payne, Roberts and Davis'"
      ]
     },
     "execution_count": 9,
     "metadata": {},
     "output_type": "execute_result"
    }
   ],
   "source": [
    "# Get the text from the h3 with class=company \n",
    "company_name = job_div.find('h3',{'class':'company'}).text\n",
    "company_name"
   ]
  },
  {
   "cell_type": "code",
   "execution_count": 10,
   "id": "e40ace95-759b-41b5-ad99-86a52e0a9e23",
   "metadata": {},
   "outputs": [
    {
     "data": {
      "text/plain": [
       "'\\n        Stewartbury, AA\\n      '"
      ]
     },
     "execution_count": 10,
     "metadata": {},
     "output_type": "execute_result"
    }
   ],
   "source": [
    "# Get any type of tag that has class=location)\n",
    "location = job_div.find(attrs={'class':'location'})\n",
    "location.text"
   ]
  },
  {
   "cell_type": "code",
   "execution_count": 11,
   "id": "7d42e4c2-f686-45e3-99b4-6f7afbd3d81c",
   "metadata": {},
   "outputs": [
    {
     "data": {
      "text/plain": [
       "'Stewartbury, AA'"
      ]
     },
     "execution_count": 11,
     "metadata": {},
     "output_type": "execute_result"
    }
   ],
   "source": [
    "# Cleaning the location name\n",
    "location_name = location.text.strip()\n",
    "location_name"
   ]
  },
  {
   "cell_type": "code",
   "execution_count": 12,
   "id": "99f7457a-20ea-462c-9440-d8916290be9a",
   "metadata": {},
   "outputs": [
    {
     "data": {
      "text/plain": [
       "<time datetime=\"2021-04-08\">2021-04-08</time>"
      ]
     },
     "execution_count": 12,
     "metadata": {},
     "output_type": "execute_result"
    }
   ],
   "source": [
    "# Getting time tag of date posted\n",
    "time_tag = job_div.find('time')\n",
    "time_tag"
   ]
  },
  {
   "cell_type": "code",
   "execution_count": 13,
   "id": "2c749799-e73f-44f2-935f-63145da6ca0a",
   "metadata": {},
   "outputs": [
    {
     "data": {
      "text/plain": [
       "'2021-04-08'"
      ]
     },
     "execution_count": 13,
     "metadata": {},
     "output_type": "execute_result"
    }
   ],
   "source": [
    "# Get the date (text from time tag)\n",
    "date_posted = time_tag.text\n",
    "date_posted"
   ]
  },
  {
   "cell_type": "code",
   "execution_count": 14,
   "id": "1ff1ff0f-61c6-4a17-beec-642f68154b28",
   "metadata": {},
   "outputs": [
    {
     "data": {
      "text/plain": [
       "[<a class=\"card-footer-item\" href=\"https://www.realpython.com\" target=\"_blank\">Learn</a>,\n",
       " <a class=\"card-footer-item\" href=\"https://realpython.github.io/fake-jobs/jobs/senior-python-developer-0.html\" target=\"_blank\">Apply</a>]"
      ]
     },
     "execution_count": 14,
     "metadata": {},
     "output_type": "execute_result"
    }
   ],
   "source": [
    "# Getting all of the links \n",
    "links = job_div.find_all('a', href=True)\n",
    "links"
   ]
  },
  {
   "cell_type": "code",
   "execution_count": 16,
   "id": "39bbf40e-95b5-4b90-b073-c5cc6c2b4a80",
   "metadata": {},
   "outputs": [
    {
     "data": {
      "text/plain": [
       "{'href': 'https://www.realpython.com',\n",
       " 'target': '_blank',\n",
       " 'class': ['card-footer-item']}"
      ]
     },
     "execution_count": 16,
     "metadata": {},
     "output_type": "execute_result"
    }
   ],
   "source": [
    "# First link's attrs\n",
    "links[0].attrs"
   ]
  },
  {
   "cell_type": "code",
   "execution_count": 17,
   "id": "7d247a6a-0c11-410a-9edc-1dc031bc7f83",
   "metadata": {},
   "outputs": [
    {
     "data": {
      "text/plain": [
       "{'href': 'https://realpython.github.io/fake-jobs/jobs/senior-python-developer-0.html',\n",
       " 'target': '_blank',\n",
       " 'class': ['card-footer-item']}"
      ]
     },
     "execution_count": 17,
     "metadata": {},
     "output_type": "execute_result"
    }
   ],
   "source": [
    "# Another link's attrs\n",
    "links[1].attrs"
   ]
  },
  {
   "cell_type": "code",
   "execution_count": 18,
   "id": "3b73fa53-775c-4816-af3e-124580227852",
   "metadata": {},
   "outputs": [
    {
     "name": "stdout",
     "output_type": "stream",
     "text": [
      "Learn\n",
      "Apply\n"
     ]
    }
   ],
   "source": [
    "print(links[0].text)\n",
    "print(links[1].text)"
   ]
  },
  {
   "cell_type": "code",
   "execution_count": 19,
   "id": "ffcd8e9d-f569-466e-bda7-224cef09e67a",
   "metadata": {},
   "outputs": [
    {
     "data": {
      "text/plain": [
       "<a class=\"card-footer-item\" href=\"https://www.realpython.com\" target=\"_blank\">Learn</a>"
      ]
     },
     "execution_count": 19,
     "metadata": {},
     "output_type": "execute_result"
    }
   ],
   "source": [
    "# Find the a tag with the Learn string\n",
    "learn_tag = job_div.find(\"a\",string='Learn')\n",
    "learn_tag"
   ]
  },
  {
   "cell_type": "code",
   "execution_count": 20,
   "id": "1ab9e6a3-1077-4ded-b40d-1b50407ba531",
   "metadata": {},
   "outputs": [
    {
     "data": {
      "text/plain": [
       "'https://www.realpython.com'"
      ]
     },
     "execution_count": 20,
     "metadata": {},
     "output_type": "execute_result"
    }
   ],
   "source": [
    "# Save the href (link) form the a-tag\n",
    "learn_url = learn_tag.attrs['href']\n",
    "learn_url"
   ]
  },
  {
   "cell_type": "code",
   "execution_count": 21,
   "id": "af74511d-3afe-4d5d-9a4a-bf6d5dc9f64c",
   "metadata": {},
   "outputs": [
    {
     "data": {
      "text/plain": [
       "<a class=\"card-footer-item\" href=\"https://realpython.github.io/fake-jobs/jobs/senior-python-developer-0.html\" target=\"_blank\">Apply</a>"
      ]
     },
     "execution_count": 21,
     "metadata": {},
     "output_type": "execute_result"
    }
   ],
   "source": [
    "# Find the a tag with the Apply string\n",
    "apply_tag  = job_div.find(\"a\", string='Apply')\n",
    "apply_tag"
   ]
  },
  {
   "cell_type": "code",
   "execution_count": 23,
   "id": "4adbe05c-78f9-4d3c-8ec3-7701643925de",
   "metadata": {},
   "outputs": [
    {
     "data": {
      "text/plain": [
       "'https://realpython.github.io/fake-jobs/jobs/senior-python-developer-0.html'"
      ]
     },
     "execution_count": 23,
     "metadata": {},
     "output_type": "execute_result"
    }
   ],
   "source": [
    "# Save the href (link) form the a-tag\n",
    "apply_url = apply_tag.attrs['href']\n",
    "apply_url"
   ]
  },
  {
   "cell_type": "code",
   "execution_count": 25,
   "id": "6a76e26f-1365-478b-8ff7-47ea51de82fe",
   "metadata": {},
   "outputs": [
    {
     "data": {
      "text/plain": [
       "{'Title': 'Senior Python Developer',\n",
       " 'Company': 'Payne, Roberts and Davis',\n",
       " 'Location': 'Stewartbury, AA',\n",
       " 'Date Posted': '2021-04-08',\n",
       " 'Learn Link': 'https://www.realpython.com',\n",
       " 'Apply Link': 'https://realpython.github.io/fake-jobs/jobs/senior-python-developer-0.html'}"
      ]
     },
     "execution_count": 25,
     "metadata": {},
     "output_type": "execute_result"
    }
   ],
   "source": [
    "# All the code to define a dictionary of info for one job listing\n",
    "\n",
    "# Finding the h2 that has title class\n",
    "title = job_div.find('h2',{'class':'title'}).text\n",
    "\n",
    "# Get the text from the h3 with class=company \n",
    "company_name = job_div.find('h3',{'class':'company'}).text\n",
    "\n",
    "# Get any type of tag that has class=location)\n",
    "location_name = job_div.find(attrs={'class':'location'}).text.strip()\n",
    "\n",
    "# Get the date (text from time tag)\n",
    "date_posted = job_div.find('time').text\n",
    "\n",
    "\n",
    "# Find the a tag with the Learn string\n",
    "learn_tag = job_div.find(\"a\",string='Learn')\n",
    "\n",
    "# Save the href (link) form the a-tag\n",
    "learn_url = learn_tag.attrs['href']\n",
    "\n",
    "\n",
    "# Find the a tag with the Apply string\n",
    "apply_tag  = job_div.find(\"a\", string='Apply')\n",
    "\n",
    "# Save the href (link) form the a-tag\n",
    "apply_url = apply_tag.attrs['href']\n",
    "\n",
    "# Putting it all together\n",
    "job_info = {'Title':title, \n",
    "            \"Company\":company_name, \n",
    "            \"Location\":location_name,\n",
    "            \"Date Posted\":date_posted,\n",
    "            \"Learn Link\": learn_url,\n",
    "            \"Apply Link\": apply_url}\n",
    "job_info"
   ]
  },
  {
   "cell_type": "code",
   "execution_count": 26,
   "id": "8304c7aa-4e4a-4691-86c8-ac97b45628a9",
   "metadata": {},
   "outputs": [],
   "source": [
    "# empty list for results (Will end up a list of dictionaries)\n",
    "all_jobs_data = []\n",
    "\n",
    "for job_div in found_job_divs:\n",
    "        \n",
    "    # Finding the h2 that has title class\n",
    "    title = job_div.find('h2',{'class':'title'}).text\n",
    "    \n",
    "    # Get the text from the h3 with class=company \n",
    "    company_name = job_div.find('h3',{'class':'company'}).text\n",
    "    \n",
    "    # Get any type of tag that has class=location)\n",
    "    location_name = job_div.find(attrs={'class':'location'}).text.strip()\n",
    "    \n",
    "    # Get the date (text from time tag)\n",
    "    date_posted = job_div.find('time').text\n",
    "    \n",
    "    \n",
    "    # Find the a tag with the Learn string\n",
    "    learn_tag = job_div.find(\"a\",string='Learn')\n",
    "    \n",
    "    # Save the href (link) form the a-tag\n",
    "    learn_url = learn_tag.attrs['href']\n",
    "    \n",
    "    \n",
    "    # Find the a tag with the Apply string\n",
    "    apply_tag  = job_div.find(\"a\", string='Apply')\n",
    "    \n",
    "    # Save the href (link) form the a-tag\n",
    "    apply_url = apply_tag.attrs['href']\n",
    "    \n",
    "    # Putting it all together\n",
    "    job_info = {'Title':title, \n",
    "                \"Company\":company_name, \n",
    "                \"Location\":location_name,\n",
    "                \"Date Posted\":date_posted,\n",
    "                \"Learn Link\": learn_url,\n",
    "                \"Apply Link\": apply_url}\n",
    "    all_jobs_data.append(job_info)"
   ]
  },
  {
   "cell_type": "code",
   "execution_count": 27,
   "id": "3f811997-71c6-41cb-821a-6459337115f6",
   "metadata": {},
   "outputs": [
    {
     "data": {
      "text/html": [
       "<div>\n",
       "<style scoped>\n",
       "    .dataframe tbody tr th:only-of-type {\n",
       "        vertical-align: middle;\n",
       "    }\n",
       "\n",
       "    .dataframe tbody tr th {\n",
       "        vertical-align: top;\n",
       "    }\n",
       "\n",
       "    .dataframe thead th {\n",
       "        text-align: right;\n",
       "    }\n",
       "</style>\n",
       "<table border=\"1\" class=\"dataframe\">\n",
       "  <thead>\n",
       "    <tr style=\"text-align: right;\">\n",
       "      <th></th>\n",
       "      <th>Title</th>\n",
       "      <th>Company</th>\n",
       "      <th>Location</th>\n",
       "      <th>Date Posted</th>\n",
       "      <th>Learn Link</th>\n",
       "      <th>Apply Link</th>\n",
       "    </tr>\n",
       "  </thead>\n",
       "  <tbody>\n",
       "    <tr>\n",
       "      <th>0</th>\n",
       "      <td>Senior Python Developer</td>\n",
       "      <td>Payne, Roberts and Davis</td>\n",
       "      <td>Stewartbury, AA</td>\n",
       "      <td>2021-04-08</td>\n",
       "      <td>https://www.realpython.com</td>\n",
       "      <td>https://realpython.github.io/fake-jobs/jobs/se...</td>\n",
       "    </tr>\n",
       "    <tr>\n",
       "      <th>1</th>\n",
       "      <td>Energy engineer</td>\n",
       "      <td>Vasquez-Davidson</td>\n",
       "      <td>Christopherville, AA</td>\n",
       "      <td>2021-04-08</td>\n",
       "      <td>https://www.realpython.com</td>\n",
       "      <td>https://realpython.github.io/fake-jobs/jobs/en...</td>\n",
       "    </tr>\n",
       "    <tr>\n",
       "      <th>2</th>\n",
       "      <td>Legal executive</td>\n",
       "      <td>Jackson, Chambers and Levy</td>\n",
       "      <td>Port Ericaburgh, AA</td>\n",
       "      <td>2021-04-08</td>\n",
       "      <td>https://www.realpython.com</td>\n",
       "      <td>https://realpython.github.io/fake-jobs/jobs/le...</td>\n",
       "    </tr>\n",
       "    <tr>\n",
       "      <th>3</th>\n",
       "      <td>Fitness centre manager</td>\n",
       "      <td>Savage-Bradley</td>\n",
       "      <td>East Seanview, AP</td>\n",
       "      <td>2021-04-08</td>\n",
       "      <td>https://www.realpython.com</td>\n",
       "      <td>https://realpython.github.io/fake-jobs/jobs/fi...</td>\n",
       "    </tr>\n",
       "    <tr>\n",
       "      <th>4</th>\n",
       "      <td>Product manager</td>\n",
       "      <td>Ramirez Inc</td>\n",
       "      <td>North Jamieview, AP</td>\n",
       "      <td>2021-04-08</td>\n",
       "      <td>https://www.realpython.com</td>\n",
       "      <td>https://realpython.github.io/fake-jobs/jobs/pr...</td>\n",
       "    </tr>\n",
       "  </tbody>\n",
       "</table>\n",
       "</div>"
      ],
      "text/plain": [
       "                     Title                     Company              Location  \\\n",
       "0  Senior Python Developer    Payne, Roberts and Davis       Stewartbury, AA   \n",
       "1          Energy engineer            Vasquez-Davidson  Christopherville, AA   \n",
       "2          Legal executive  Jackson, Chambers and Levy   Port Ericaburgh, AA   \n",
       "3   Fitness centre manager              Savage-Bradley     East Seanview, AP   \n",
       "4          Product manager                 Ramirez Inc   North Jamieview, AP   \n",
       "\n",
       "  Date Posted                  Learn Link  \\\n",
       "0  2021-04-08  https://www.realpython.com   \n",
       "1  2021-04-08  https://www.realpython.com   \n",
       "2  2021-04-08  https://www.realpython.com   \n",
       "3  2021-04-08  https://www.realpython.com   \n",
       "4  2021-04-08  https://www.realpython.com   \n",
       "\n",
       "                                          Apply Link  \n",
       "0  https://realpython.github.io/fake-jobs/jobs/se...  \n",
       "1  https://realpython.github.io/fake-jobs/jobs/en...  \n",
       "2  https://realpython.github.io/fake-jobs/jobs/le...  \n",
       "3  https://realpython.github.io/fake-jobs/jobs/fi...  \n",
       "4  https://realpython.github.io/fake-jobs/jobs/pr...  "
      ]
     },
     "execution_count": 27,
     "metadata": {},
     "output_type": "execute_result"
    }
   ],
   "source": [
    "# Convert list of dictionaries to a dataframe\n",
    "jobs_df = pd.DataFrame(all_jobs_data)\n",
    "jobs_df.head()"
   ]
  },
  {
   "cell_type": "code",
   "execution_count": 29,
   "id": "30a83423-f5d1-4946-b693-2a1ac22c0175",
   "metadata": {},
   "outputs": [],
   "source": [
    "# Saving the Results:\n",
    "jobs_df.to_csv(\"Data/fake-job-listings-scraped.csv\", index=False)"
   ]
  }
 ],
 "metadata": {
  "kernelspec": {
   "display_name": "Python 3 (ipykernel)",
   "language": "python",
   "name": "python3"
  },
  "language_info": {
   "codemirror_mode": {
    "name": "ipython",
    "version": 3
   },
   "file_extension": ".py",
   "mimetype": "text/x-python",
   "name": "python",
   "nbconvert_exporter": "python",
   "pygments_lexer": "ipython3",
   "version": "3.10.10"
  },
  "widgets": {
   "application/vnd.jupyter.widget-state+json": {
    "state": {},
    "version_major": 2,
    "version_minor": 0
   }
  }
 },
 "nbformat": 4,
 "nbformat_minor": 5
}
